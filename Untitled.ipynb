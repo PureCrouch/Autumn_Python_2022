{
 "cells": [
  {
   "cell_type": "code",
   "execution_count": 1,
   "metadata": {},
   "outputs": [],
   "source": [
    "import numpy as np\n",
    "import matplotlib as mpl\n",
    "import matplotlib.pyplot as plt"
   ]
  },
  {
   "cell_type": "code",
   "execution_count": 6,
   "metadata": {},
   "outputs": [
    {
     "name": "stdout",
     "output_type": "stream",
     "text": [
      "[ 5.09092768e-013  5.00000000e-001 -5.40759179e-012  3.00960140e-011\n",
      " -6.42600197e-011  8.12331978e-011 -6.89291640e-011  4.17115122e-011\n",
      " -1.86366778e-011  6.27516268e-012 -1.60828140e-012  3.13486412e-013\n",
      " -4.56772811e-014  4.71510191e-015 -2.86987400e-016 -4.80130585e-019\n",
      "  1.91975239e-018 -1.57755400e-019  1.71960481e-021  4.07982828e-022\n",
      " -1.38772727e-025 -2.32276203e-024  4.83230176e-027  1.01029179e-026\n",
      " -3.15785168e-028  5.00649470e-029 -6.15140445e-030  2.48524223e-033\n",
      "  1.93415806e-032 -6.97625016e-034  7.03466936e-035  3.02727730e-037\n",
      " -6.43536847e-037  2.19818164e-038 -8.66821711e-041  7.43307506e-043\n",
      "  3.51795511e-042 -1.10253156e-043  7.44618610e-045  1.97308714e-045\n",
      " -3.20915836e-046  1.66091881e-048  4.88356115e-049  4.63572786e-051\n",
      " -1.06510778e-052  5.77226868e-053 -3.78882114e-054  5.98438079e-055\n",
      " -1.38458279e-056 -4.35798023e-057  4.36588122e-059  1.18712504e-059\n",
      " -3.67231370e-061 -7.17607831e-063 -1.76900304e-064  7.87009805e-065\n",
      "  2.05699176e-065 -8.16799324e-067 -8.21718764e-068  8.72363667e-070\n",
      "  4.65747848e-070 -2.73625593e-071  1.22073158e-072 -9.54261282e-074\n",
      " -6.29878726e-076  1.84320669e-077  2.15173690e-077 -1.06159109e-078\n",
      "  1.22460207e-079 -1.53471946e-080  1.24418960e-081 -2.38341891e-083\n",
      "  5.86058071e-085  1.01939520e-085 -7.05644683e-087 -1.91121236e-087\n",
      " -4.40697306e-090  3.00736881e-090  1.95966454e-091  2.55672284e-092\n",
      "  1.41865026e-094 -9.74430909e-095  6.39485832e-096 -6.72852310e-097\n",
      "  8.02839002e-100 -1.29572393e-099  1.67758621e-100 -5.69164362e-102\n",
      "  4.17095720e-103  8.66426553e-105 -5.88002891e-106 -4.77465133e-107\n",
      "  5.75165443e-109  1.60547044e-109 -2.70556570e-110 -1.25521039e-111\n",
      "  2.29831001e-112  6.72206138e-115 -6.08943750e-115  1.42145531e-116]\n"
     ]
    },
    {
     "data": {
      "text/plain": [
       "<matplotlib.legend.Legend at 0x1bf24fec1c8>"
      ]
     },
     "execution_count": 6,
     "metadata": {},
     "output_type": "execute_result"
    },
    {
     "data": {
      "image/png": "[encoded data removed]",
      "text/plain": [
       "<Figure size 432x288 with 1 Axes>"
      ]
     },
     "metadata": {
      "needs_background": "light"
     },
     "output_type": "display_data"
    }
   ],
   "source": [
    "\n",
    "def f(x):\n",
    "    return x / 2\n",
    "def compute_polynomial_coeffs(xx, yy):\n",
    "    n = len(xx)\n",
    "    b = yy\n",
    "\n",
    "    A = np.zeros((n,n))\n",
    "    for i in range(n):\n",
    "        A[:,i] = xx**i\n",
    "    return np.linalg.solve(A, b)\n",
    "\n",
    "def polynome(w,x):\n",
    "    n = len(w)\n",
    "    result = 0\n",
    "    for i in range(n):\n",
    "        result += w[i] * x**i\n",
    "    return result\n",
    "xx = np.linspace(1, 15, 100)\n",
    "yy = f(xx)\n",
    "w = compute_polynomial_coeffs(xx, yy)\n",
    "print(w)\n",
    "polynome(w,np.arange(10))\n",
    "\n",
    "n = 15\n",
    "noise = 0.01\n",
    "plt.plot(xx, f(xx), label = 'f(x)')\n",
    "plt.plot(xx, polynome(w,xx), label = 'polynome')\n",
    "x_pts = np.linspace(1, 15, n)\n",
    "y_pts = f(x_pts) + np.random.randn(n) * noise\n",
    "plt.plot(x_pts, y_pts, 'o', label = 'points')\n",
    "plt.legend()\n"
   ]
  },
  {
   "cell_type": "code",
   "execution_count": null,
   "metadata": {},
   "outputs": [],
   "source": []
  }
 ],
 "metadata": {
  "kernelspec": {
   "display_name": "Python 3",
   "language": "python",
   "name": "python3"
  },
  "language_info": {
   "codemirror_mode": {
    "name": "ipython",
    "version": 3
   },
   "file_extension": ".py",
   "mimetype": "text/x-python",
   "name": "python",
   "nbconvert_exporter": "python",
   "pygments_lexer": "ipython3",
   "version": "3.7.4"
  }
 },
 "nbformat": 4,
 "nbformat_minor": 2
}

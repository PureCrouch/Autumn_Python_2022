{
 "cells": [
  {
   "cell_type": "code",
   "execution_count": 66,
   "metadata": {},
   "outputs": [],
   "source": [
    "import numpy as np\n",
    "import matplotlib as mpl\n",
    "import matplotlib.pyplot as plt"
   ]
  },
  {
   "cell_type": "code",
   "execution_count": 78,
   "metadata": {},
   "outputs": [],
   "source": [
    "n = 20\n",
    "def f(x):\n",
    "    return x / 2\n",
    "def compute_polynomial_coeffs(n, noise=0):\n",
    "    xx = np.linspace(1,15,n)\n",
    "    yy = f(xx)\n",
    "    b = yy + np.random.randn(n) * noise\n",
    "    A = np.zeros((n,n))\n",
    "    for i in range(n):\n",
    "        A[:,i] = xx**i\n",
    "    return np.linalg.solve(A, b)\n",
    "\n",
    "def polynome(w,x):\n",
    "    n = len(w)\n",
    "    result = 0\n",
    "    for i in range(n):\n",
    "        result += w[i] * x**i\n",
    "    return(result)\n",
    "\n"
   ]
  },
  {
   "cell_type": "code",
   "execution_count": 79,
   "metadata": {},
   "outputs": [
    {
     "name": "stdout",
     "output_type": "stream",
     "text": [
      "[-8.57964236e+03  3.56598364e+04 -6.60742445e+04  7.31140814e+04\n",
      " -5.44898821e+04  2.91990152e+04 -1.17122286e+04  3.61037873e+03\n",
      " -8.70329692e+02  1.65912367e+02 -2.51668862e+01  3.04319167e+00\n",
      " -2.92611717e-01  2.22092390e-02 -1.31293949e-03  5.91459307e-05\n",
      " -1.95995693e-06  4.50097974e-08 -6.39514447e-10  4.23292169e-12]\n"
     ]
    },
    {
     "data": {
      "text/plain": [
       "<matplotlib.legend.Legend at 0x22fc0e38bc8>"
      ]
     },
     "execution_count": 79,
     "metadata": {},
     "output_type": "execute_result"
    },
    {
     "data": {
      "image/png": "[encoded data removed]",
      "text/plain": [
       "<Figure size 432x288 with 1 Axes>"
      ]
     },
     "metadata": {
      "needs_background": "light"
     },
     "output_type": "display_data"
    }
   ],
   "source": [
    "w = compute_polynomial_coeffs(n, noise = 0.01)\n",
    "print(w)\n",
    "polynome(w,np.arange(10))\n",
    "\n",
    "xx = np.linspace(1, 15, 100)\n",
    "plt.plot(xx, f(xx), label = 'f(x)')\n",
    "plt.plot(xx, polynome(w,xx), label = 'polynome')\n",
    "x_pts = np.linspace(1, 15, n)\n",
    "y_pts = f(x_pts)\n",
    "plt.plot(x_pts, y_pts, 'o', label = 'points')\n",
    "plt.legend()"
   ]
  },
  {
   "cell_type": "code",
   "execution_count": null,
   "metadata": {},
   "outputs": [],
   "source": []
  }
 ],
 "metadata": {
  "kernelspec": {
   "display_name": "Python 3",
   "language": "python",
   "name": "python3"
  },
  "language_info": {
   "codemirror_mode": {
    "name": "ipython",
    "version": 3
   },
   "file_extension": ".py",
   "mimetype": "text/x-python",
   "name": "python",
   "nbconvert_exporter": "python",
   "pygments_lexer": "ipython3",
   "version": "3.7.4"
  }
 },
 "nbformat": 4,
 "nbformat_minor": 2
}
